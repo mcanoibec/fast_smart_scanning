{
 "cells": [
  {
   "cell_type": "code",
   "execution_count": 1,
   "metadata": {},
   "outputs": [],
   "source": [
    "import pandas as pd\n",
    "import numpy as np\n",
    "from copy import copy\n",
    "from os import listdir\n",
    "from os.path import isfile, join\n"
   ]
  },
  {
   "cell_type": "code",
   "execution_count": 2,
   "metadata": {},
   "outputs": [],
   "source": [
    "new_curves_folder=rf'c:\\Users\\mcano\\Code\\rawdata\\img_data\\FHRbact1\\Out_GetEpOnpx_2024-4_from_OUT_qi_sh4_tip2-data-2023.11.10-16.34.43.387_21-Mar-2024-19-13-48\\tablas'\n",
    "curves_max_limit=250\n"
   ]
  },
  {
   "cell_type": "code",
   "execution_count": 4,
   "metadata": {},
   "outputs": [],
   "source": [
    "onlyfiles = [f for f in listdir(new_curves_folder) if isfile(join(new_curves_folder, f))]\n",
    "zetas=np.arange(curves_max_limit)\n",
    "stack=np.zeros((1,curves_max_limit+3))\n",
    "\n",
    "\n",
    "for k in np.arange(len(onlyfiles)):\n",
    "    #EXTRACT\n",
    "\n",
    "\n",
    "    a=pd.read_table(rf'{new_curves_folder}\\{onlyfiles[k]}', skiprows=19)\n",
    "    a=a.pivot_table(columns='Z[nm]', values='dCdz[aF/nm]', index='ep[none]')\n",
    "    eps=np.array(a.index)\n",
    "\n",
    "    #PROJECTION\n",
    "    b=np.zeros((curves_max_limit,1))\n",
    "    for w in np.arange(len(a)):\n",
    "        zs=np.array(a.columns)\n",
    "        ccc=a.iloc[w,:]\n",
    "        projection = np.full((len(zetas)), np.nan)\n",
    "        indices = np.where(np.isin(zetas, zs.astype(int)))[0]\n",
    "        projection[indices] = ccc[np.isin(np.round(zs), zetas)]\n",
    "        projection=np.expand_dims(projection, axis=1)\n",
    "        b=np.concatenate((b,projection), axis=1)\n",
    "    b=b.T\n",
    "    b=b[1:,]\n",
    "    b=pd.DataFrame(b)\n",
    "    b=b.interpolate(axis=1)\n",
    "    b=b.bfill(axis=1)\n",
    "\n",
    "    #INDEXES\n",
    "        \n",
    "    files=onlyfiles[k]\n",
    "    files=files.replace(\"Tabla_I_\", \"\")\n",
    "    files=files.replace(\"_J_\", \"_\")\n",
    "    files=files.replace(\".txt\", \"\")\n",
    "    files=np.array(files.split(\"_\")).astype(int)\n",
    "    files=np.expand_dims(files, axis=1)\n",
    "\n",
    "    idxs=np.zeros((2,1))\n",
    "    for u in np.arange(len(eps)):\n",
    "        idxs=np.concatenate((idxs,files), axis=1)\n",
    "    idxs=idxs[:,1:]\n",
    "    idxs_t=copy(idxs).T\n",
    "\n",
    "    #PACKAGE\n",
    "    t=np.column_stack((eps,idxs_t,np.array(b)))\n",
    "    stack=np.concatenate((stack, t), axis=0)\n",
    "\n",
    "names=['ep','y','x']\n",
    "for i in zetas:\n",
    "    names.append(rf'Z={i} nm')\n",
    "\n",
    "\n",
    "stack=stack[1:]\n",
    "stack=pd.DataFrame(stack, columns=names)"
   ]
  },
  {
   "cell_type": "code",
   "execution_count": null,
   "metadata": {},
   "outputs": [],
   "source": []
  },
  {
   "cell_type": "code",
   "execution_count": null,
   "metadata": {},
   "outputs": [],
   "source": []
  }
 ],
 "metadata": {
  "kernelspec": {
   "display_name": ".venv",
   "language": "python",
   "name": "python3"
  },
  "language_info": {
   "codemirror_mode": {
    "name": "ipython",
    "version": 3
   },
   "file_extension": ".py",
   "mimetype": "text/x-python",
   "name": "python",
   "nbconvert_exporter": "python",
   "pygments_lexer": "ipython3",
   "version": "3.11.6"
  }
 },
 "nbformat": 4,
 "nbformat_minor": 2
}
