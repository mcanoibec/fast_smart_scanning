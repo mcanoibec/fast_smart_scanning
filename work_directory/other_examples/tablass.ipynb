{
 "cells": [
  {
   "cell_type": "code",
   "execution_count": 1,
   "metadata": {},
   "outputs": [],
   "source": [
    "import pandas as pd\n",
    "import matplotlib.pyplot as plt\n",
    "import numpy as np\n",
    "from copy import copy\n",
    "\n",
    "from nn_backend.import_xyz_img import import_xyz_img\n",
    "from nn_backend.conv_imgs import conv_imgs\n",
    "from sklearn.metrics import r2_score, mean_absolute_error\n",
    "from matplotlib import cm, colormaps\n",
    "from matplotlib.colors import ListedColormap\n",
    "from matplotlib.lines import Line2D\n",
    "from sklearn.preprocessing import StandardScaler, MinMaxScaler\n",
    "from sklearn.model_selection import ShuffleSplit\n",
    "from keras.models import Model\n",
    "from keras.layers import Input, Dense, Flatten, Conv2D, concatenate\n",
    "from keras.optimizers import Adam\n",
    "from keras.utils import set_random_seed\n",
    "from scipy.stats import norm\n",
    "import seaborn as sns\n",
    "import math\n",
    "from tqdm import tqdm\n",
    "from os import listdir\n",
    "from os.path import isfile, join\n",
    "from scipy import ndimage\n",
    "from nn_backend.modified_loss_functions import cube_msle, linear_msle\n",
    "from skimage import morphology\n",
    "from nn_backend.data_import import import_curves_from_folder, curve_calibration, matrix_cut, data_augment, mask_from_topo\n",
    "from nn_backend.nn_for_ep import nn_for_ep\n",
    "from nn_backend.post_process import prediction_reconstruction_with_train, img_export, histogram_export\n",
    "\n",
    "\n",
    "\n",
    "viridis = colormaps['viridis']\n",
    "newcolors = viridis(np.linspace(0, 1, 256))\n",
    "black = np.array([0, 0, 0, 1])\n",
    "newcolors[0:33, :] = black\n",
    "newcmp = ListedColormap(newcolors)\n",
    "del black, newcolors, viridis"
   ]
  },
  {
   "cell_type": "code",
   "execution_count": 52,
   "metadata": {},
   "outputs": [],
   "source": [
    "new_curves_folder=rf'c:\\Users\\mcano\\Code\\rawdata\\img_data\\FHRbact1\\Out_GetEpOnpx_2024-4_from_OUT_qi_sh4_tip2-data-2023.11.10-16.34.43.387_21-Mar-2024-19-13-48\\tablas'"
   ]
  },
  {
   "cell_type": "code",
   "execution_count": 50,
   "metadata": {},
   "outputs": [],
   "source": [
    "a=pd.read_table(rf'c:\\Users\\mcano\\Code\\rawdata\\img_data\\FHRbact1\\Out_GetEpOnpx_2024-4_from_OUT_qi_sh4_tip2-data-2023.11.10-16.34.43.387_21-Mar-2024-19-13-48\\tablas\\Tabla_I_66_J_100.txt', skiprows=19)\n",
    "a=a.pivot_table(columns='Z[nm]', values='dCdz[aF/nm]', index='ep[none]')\n",
    "zs=np.array(a.columns)\n",
    "names=['ep']\n",
    "for i in zs:\n",
    "    names.append(rf'Z={i} nm')\n",
    "eps=np.array(a.index)\n",
    "t=np.column_stack((eps,np.array(a)))\n",
    "out=pd.DataFrame(t, columns=names) "
   ]
  },
  {
   "cell_type": "code",
   "execution_count": 53,
   "metadata": {},
   "outputs": [],
   "source": [
    "onlyfiles = [f for f in listdir(new_curves_folder) if isfile(join(new_curves_folder, f))]\n"
   ]
  },
  {
   "cell_type": "code",
   "execution_count": 71,
   "metadata": {},
   "outputs": [],
   "source": [
    "k=0\n",
    "idxs=np.zeros((2,1))\n",
    "for k in np.arange(len(onlyfiles)):\n",
    "    files=onlyfiles[k]\n",
    "    files=files.replace(\"Tabla_I_\", \"\")\n",
    "    files=files.replace(\"_J_\", \"_\")\n",
    "    files=files.replace(\".txt\", \"\")\n",
    "    files=np.array(files.split(\"_\")).astype(int)\n",
    "    files=np.expand_dims(files, axis=1)\n",
    "\n",
    "    idxs=np.concatenate((idxs,files), axis=1)\n",
    "idxs=idxs[:,1:]"
   ]
  },
  {
   "cell_type": "code",
   "execution_count": null,
   "metadata": {},
   "outputs": [],
   "source": []
  }
 ],
 "metadata": {
  "kernelspec": {
   "display_name": ".venv",
   "language": "python",
   "name": "python3"
  },
  "language_info": {
   "codemirror_mode": {
    "name": "ipython",
    "version": 3
   },
   "file_extension": ".py",
   "mimetype": "text/x-python",
   "name": "python",
   "nbconvert_exporter": "python",
   "pygments_lexer": "ipython3",
   "version": "3.11.6"
  }
 },
 "nbformat": 4,
 "nbformat_minor": 2
}
